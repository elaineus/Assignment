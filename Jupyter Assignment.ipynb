{
 "cells": [
  {
   "cell_type": "markdown",
   "id": "e4691819-e51b-46d1-93f2-f815105faeed",
   "metadata": {},
   "source": [
    "# My Jupyter Notebook on IBM Watson Studio"
   ]
  },
  {
   "cell_type": "markdown",
   "id": "cf76dd9b-6aac-4aef-b8ac-2098f9cfa461",
   "metadata": {},
   "source": [
    "**Name: EL**\n",
    "\n",
    "Desired Occupation: R&D in Healthcare Industry"
   ]
  },
  {
   "cell_type": "markdown",
   "id": "98171e9b-e89f-4c03-85c9-877a5e6a0e19",
   "metadata": {},
   "source": [
    "*I'm passionate about the health care industry due to my previous work experience as a medical device sales rep and would like to pursue a data science career in this industry. For example, to find the correlation between certain medications and patient longevity*"
   ]
  },
  {
   "cell_type": "markdown",
   "id": "ba93a7cd-2090-42c2-9887-94450793ca0d",
   "metadata": {},
   "source": [
    "### To get the correct answer for 1000 +1000"
   ]
  },
  {
   "cell_type": "code",
   "execution_count": 7,
   "id": "6d2dc506-136a-4569-b96e-72cc589e0957",
   "metadata": {},
   "outputs": [
    {
     "name": "stdout",
     "output_type": "stream",
     "text": [
      "1000+1000 =\n"
     ]
    },
    {
     "data": {
      "text/plain": [
       "2000"
      ]
     },
     "execution_count": 7,
     "metadata": {},
     "output_type": "execute_result"
    }
   ],
   "source": [
    "print (\"1000+1000 =\")\n",
    "1000+1000"
   ]
  },
  {
   "cell_type": "markdown",
   "id": "c9174d84-c7a0-4d69-9e59-35a042db6056",
   "metadata": {},
   "source": [
    "Using Markdown or HTML, this cell must include at least 3 of the following: \n",
    "\n",
    "### Horizontal Rule\n",
    "\n",
    "***\n",
    "Horizontal 1\n",
    "***\n",
    "Horizontal 2\n",
    "***\n",
    "Horizontal 3\n",
    "***\n",
    "\n",
    "### Bulleted List,\n",
    "\n",
    "- Bullet 1\n",
    "- Bullet 2 \n",
    "- Bullet 3\n",
    "\n",
    "### Numbered List \n",
    "\n",
    "1. Number 1\n",
    "2. Number 2\n",
    "3. Number 3\n",
    "\n",
    "### Tables\n",
    "\n",
    "|Table|Table|Table|\n",
    "|------|------|------|\n",
    "|1|2|3|\n",
    "\n",
    "### Hyperlinks\n",
    "\n",
    "[Click here to coursera] (https://www.coursera.org/)\n",
    "\n",
    "### Images\n",
    "\n",
    "### Code/syntax highlighting\n",
    "\n",
    "```python \n",
    "def add_numbers(a,b):\n",
    "    return a + b\n",
    "\n",
    "print(add_numbers(1, 2))\n"
   ]
  },
  {
   "cell_type": "markdown",
   "id": "048fc621-f398-4039-bed9-d4fbded78e9b",
   "metadata": {},
   "source": [
    "### Blocked quotes\n",
    "\n",
    "> This is a blocked code\n",
    ">> This is a cursed code\n",
    ">>> This is the forbidden code\n",
    ">>>> I'm just kidding \n",
    ">>>>> Have a nice day :)\n",
    "\n",
    "### Strikethrough\n",
    "\n",
    "~~strikeeeeeeeeeeeeeeethroughhhhhhhhhhhhhhh~~\n"
   ]
  }
 ],
 "metadata": {
  "kernelspec": {
   "display_name": "Python",
   "language": "python",
   "name": "conda-env-python-py"
  },
  "language_info": {
   "codemirror_mode": {
    "name": "ipython",
    "version": 3
   },
   "file_extension": ".py",
   "mimetype": "text/x-python",
   "name": "python",
   "nbconvert_exporter": "python",
   "pygments_lexer": "ipython3",
   "version": "3.7.12"
  }
 },
 "nbformat": 4,
 "nbformat_minor": 5
}
